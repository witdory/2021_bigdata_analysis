{
 "cells": [
  {
   "cell_type": "markdown",
   "metadata": {},
   "source": [
    "# 6. 실습"
   ]
  },
  {
   "cell_type": "code",
   "execution_count": 85,
   "metadata": {},
   "outputs": [],
   "source": [
    "# numpy import하기\n",
    "import numpy as np"
   ]
  },
  {
   "cell_type": "markdown",
   "metadata": {},
   "source": [
    "## 6-1. NumPy 배열 생성"
   ]
  },
  {
   "cell_type": "code",
   "execution_count": 86,
   "metadata": {},
   "outputs": [],
   "source": [
    "# np.array()로 1차원 배열 [1, 2, 3, 4, 5] 생성 후 출력하기\n",
    "arr = np.array([1,2,3,4,5])"
   ]
  },
  {
   "cell_type": "code",
   "execution_count": 87,
   "metadata": {},
   "outputs": [
    {
     "data": {
      "text/plain": [
       "(dtype('int64'), 5, 1, (5,))"
      ]
     },
     "execution_count": 87,
     "metadata": {},
     "output_type": "execute_result"
    }
   ],
   "source": [
    "# 1차원 배열의 데이터타입, 모양, 배열 전체 element의 수, 차원의 수 출력하기\n",
    "arr.dtype, arr.size, arr.ndim, arr.shape"
   ]
  },
  {
   "cell_type": "code",
   "execution_count": 88,
   "metadata": {},
   "outputs": [
    {
     "data": {
      "text/plain": [
       "array([[10, 20, 30, 40],\n",
       "       [50, 60, 70, 80]])"
      ]
     },
     "execution_count": 88,
     "metadata": {},
     "output_type": "execute_result"
    }
   ],
   "source": [
    "# np.array()로 아래 2차원 배열 생성 후 출력하기\n",
    "# [[10, 20, 30, 40],\n",
    "#  [50, 60, 70, 80]]\n",
    "arr2 = np.array([10,20,30,40,50,60,70,80]).reshape(2,4)\n",
    "arr2"
   ]
  },
  {
   "cell_type": "code",
   "execution_count": 89,
   "metadata": {},
   "outputs": [
    {
     "data": {
      "text/plain": [
       "array([1, 2, 3, 4, 5])"
      ]
     },
     "execution_count": 89,
     "metadata": {},
     "output_type": "execute_result"
    }
   ],
   "source": [
    "# np.arange()로 1차원 배열 [1, 2, 3, 4, 5] 생성 후 출력하기\n",
    "arr3 = np.arange(1,6)\n",
    "arr3"
   ]
  },
  {
   "cell_type": "code",
   "execution_count": 90,
   "metadata": {},
   "outputs": [
    {
     "data": {
      "text/plain": [
       "array([[10, 20, 30, 40],\n",
       "       [50, 60, 70, 80]])"
      ]
     },
     "execution_count": 90,
     "metadata": {},
     "output_type": "execute_result"
    }
   ],
   "source": [
    "# np.arange()로 아래 2차원 배열 생성 후 출력하기\n",
    "# [[10, 20, 30, 40],\n",
    "#  [50, 60, 70, 80]]\n",
    "arr4 = np.arange(10,81,10).reshape(2,4)\n",
    "arr4"
   ]
  },
  {
   "cell_type": "code",
   "execution_count": 91,
   "metadata": {},
   "outputs": [
    {
     "data": {
      "text/plain": [
       "array([0, 1, 0, 5, 4, 2, 0, 0, 2, 5, 2, 1, 0, 5, 2, 1, 5, 4, 2, 0, 3, 3,\n",
       "       3, 5, 0, 5, 1, 4, 2, 3, 3, 4, 2, 4, 3, 1, 0, 4, 3, 4, 5, 2, 2, 4,\n",
       "       2, 5, 4, 1, 2, 2, 0, 2, 2, 3, 5, 4, 2, 4, 3, 5, 1, 0, 0, 5, 1, 5,\n",
       "       2, 4, 2, 3, 3, 1, 2, 3, 0, 1, 5, 5, 1, 5, 3, 0, 4, 2, 5, 4, 3, 4,\n",
       "       4, 2, 0, 1, 0, 4, 5, 2, 5, 4, 4, 5])"
      ]
     },
     "execution_count": 91,
     "metadata": {},
     "output_type": "execute_result"
    }
   ],
   "source": [
    "# 주사위를 100번 던져서 나오는 숫자 배열 출력하기\n",
    "np.random.randint(6,size=100)"
   ]
  },
  {
   "cell_type": "code",
   "execution_count": 92,
   "metadata": {},
   "outputs": [
    {
     "data": {
      "text/plain": [
       "array([[0.88001849, 0.27454204, 0.22458118, 0.81397318],\n",
       "       [0.05820075, 0.73015342, 0.03267909, 0.59998723],\n",
       "       [0.03054111, 0.85960489, 0.43977952, 0.56044466]])"
      ]
     },
     "execution_count": 92,
     "metadata": {},
     "output_type": "execute_result"
    }
   ],
   "source": [
    "# np.random을 사용하여 랜덤 실수값으로 이루어진 (3, 4) 2차원 배열 생성\n",
    "np.random.rand(3,4)"
   ]
  },
  {
   "cell_type": "markdown",
   "metadata": {},
   "source": [
    "## 6-2. 산술연산"
   ]
  },
  {
   "cell_type": "code",
   "execution_count": 93,
   "metadata": {},
   "outputs": [
    {
     "data": {
      "text/plain": [
       "(array([1, 2, 3, 4, 5]), array([ 6,  7,  8,  9, 10]))"
      ]
     },
     "execution_count": 93,
     "metadata": {},
     "output_type": "execute_result"
    }
   ],
   "source": [
    "# [1, 2, 3, 4, 5], [6, 7, 8, 9, 10] 1차원 배열 2개를 생성하고 출력하기\n",
    "a=np.array([1,2,3,4,5])\n",
    "b=np.array([6,7,8,9,10])\n",
    "a,b"
   ]
  },
  {
   "cell_type": "code",
   "execution_count": 94,
   "metadata": {},
   "outputs": [
    {
     "data": {
      "text/plain": [
       "(array([ 7,  9, 11, 13, 15]),\n",
       " array([-5, -5, -5, -5, -5]),\n",
       " array([ 6, 14, 24, 36, 50]),\n",
       " array([0.16666667, 0.28571429, 0.375     , 0.44444444, 0.5       ]))"
      ]
     },
     "execution_count": 94,
     "metadata": {},
     "output_type": "execute_result"
    }
   ],
   "source": [
    "# 1차원 배열간 산술연산(덧셈, 뺄셈, 곱셈, 나눗셈) 하기\n",
    "a+b, a-b, a*b, a/b"
   ]
  },
  {
   "cell_type": "code",
   "execution_count": 95,
   "metadata": {},
   "outputs": [
    {
     "data": {
      "text/plain": [
       "(array([[ 1,  2,  3,  4,  5],\n",
       "        [ 6,  7,  8,  9, 10]]),\n",
       " array([[11, 12, 13, 14, 15],\n",
       "        [16, 17, 18, 19, 20]]))"
      ]
     },
     "execution_count": 95,
     "metadata": {},
     "output_type": "execute_result"
    }
   ],
   "source": [
    "# [[1, 2, 3, 4, 5]   [[11, 12, 13, 14, 15]\n",
    "#  [6, 7, 8, 9, 10]], [16, 17, 18, 19, 20]] 2차원 배열 2개를 생성하고 출력하기\n",
    "arr1 = np.arange(1,11).reshape(2,5)\n",
    "arr2 = np.arange(11,21).reshape(2,5)\n",
    "arr1, arr2"
   ]
  },
  {
   "cell_type": "code",
   "execution_count": 96,
   "metadata": {},
   "outputs": [
    {
     "data": {
      "text/plain": [
       "(array([[12, 14, 16, 18, 20],\n",
       "        [22, 24, 26, 28, 30]]),\n",
       " array([[-10, -10, -10, -10, -10],\n",
       "        [-10, -10, -10, -10, -10]]),\n",
       " array([[0.09090909, 0.16666667, 0.23076923, 0.28571429, 0.33333333],\n",
       "        [0.375     , 0.41176471, 0.44444444, 0.47368421, 0.5       ]]))"
      ]
     },
     "execution_count": 96,
     "metadata": {},
     "output_type": "execute_result"
    }
   ],
   "source": [
    "# 2차원 배열간 산술연산(덧셈, 뺄셈, 나눗셈) 하기\n",
    "arr1+arr2,arr1-arr2,arr1/arr2"
   ]
  },
  {
   "cell_type": "code",
   "execution_count": 97,
   "metadata": {},
   "outputs": [
    {
     "data": {
      "text/plain": [
       "array([[11, 12],\n",
       "       [13, 14],\n",
       "       [15, 16],\n",
       "       [17, 18],\n",
       "       [19, 20]])"
      ]
     },
     "execution_count": 97,
     "metadata": {},
     "output_type": "execute_result"
    }
   ],
   "source": [
    "# 두번째 배열의 shape을 (5, 2)로 만들고 출력하기\n",
    "arr2 = arr2.reshape(5,2)\n",
    "arr2"
   ]
  },
  {
   "cell_type": "code",
   "execution_count": 98,
   "metadata": {},
   "outputs": [
    {
     "data": {
      "text/plain": [
       "array([[245, 260],\n",
       "       [620, 660]])"
      ]
     },
     "execution_count": 98,
     "metadata": {},
     "output_type": "execute_result"
    }
   ],
   "source": [
    "# 행렬곱셈(dot product) 연산하기\n",
    "\n",
    "np.dot(arr1,arr2)"
   ]
  },
  {
   "cell_type": "markdown",
   "metadata": {},
   "source": [
    "## 6-3. Aggregation 함수"
   ]
  },
  {
   "cell_type": "code",
   "execution_count": 99,
   "metadata": {},
   "outputs": [
    {
     "data": {
      "text/plain": [
       "array([ 1,  2,  3,  4,  5,  6,  7,  8,  9, 10])"
      ]
     },
     "execution_count": 99,
     "metadata": {},
     "output_type": "execute_result"
    }
   ],
   "source": [
    "# 1~10까지 이루어진 1차원 배열 생성하기\n",
    "a=np.array([1,2,3,4,5,6,7,8,9,10])\n",
    "a"
   ]
  },
  {
   "cell_type": "code",
   "execution_count": 100,
   "metadata": {},
   "outputs": [
    {
     "data": {
      "text/plain": [
       "(10, 1)"
      ]
     },
     "execution_count": 100,
     "metadata": {},
     "output_type": "execute_result"
    }
   ],
   "source": [
    "# 최대값, 최소값 출력하기\n",
    "np.max(a),np.min(a)"
   ]
  },
  {
   "cell_type": "code",
   "execution_count": 101,
   "metadata": {},
   "outputs": [
    {
     "data": {
      "text/plain": [
       "(55, 5.5)"
      ]
     },
     "execution_count": 101,
     "metadata": {},
     "output_type": "execute_result"
    }
   ],
   "source": [
    "# 배열요소의 합, 평균값 출력하기\n",
    "np.sum(a),np.mean(a)"
   ]
  },
  {
   "cell_type": "code",
   "execution_count": 102,
   "metadata": {},
   "outputs": [
    {
     "data": {
      "text/plain": [
       "(5.5, 2.8722813232690143)"
      ]
     },
     "execution_count": 102,
     "metadata": {},
     "output_type": "execute_result"
    }
   ],
   "source": [
    "# 중앙값(중위값), 표준편차 출력하기\n",
    "np.median(a),np.std(a)"
   ]
  },
  {
   "cell_type": "code",
   "execution_count": 103,
   "metadata": {},
   "outputs": [
    {
     "data": {
      "text/plain": [
       "array([[ 1,  2,  3,  4,  5],\n",
       "       [ 6,  7,  8,  9, 10],\n",
       "       [11, 12, 13, 14, 15],\n",
       "       [16, 17, 18, 19, 20]])"
      ]
     },
     "execution_count": 103,
     "metadata": {},
     "output_type": "execute_result"
    }
   ],
   "source": [
    "# 1~20까지 이루어진 2차원 배열 (4, 5) 생성하기\n",
    "arr2 = np.arange(1,21).reshape(4,5)\n",
    "arr2"
   ]
  },
  {
   "cell_type": "code",
   "execution_count": 104,
   "metadata": {},
   "outputs": [
    {
     "data": {
      "text/plain": [
       "(array([ 1,  6, 11, 16]), array([ 5, 10, 15, 20]))"
      ]
     },
     "execution_count": 104,
     "metadata": {},
     "output_type": "execute_result"
    }
   ],
   "source": [
    "# 각 행의 max값, min값 출력하기\n",
    "np.min(arr2,axis=1),np.max(arr2,axis=1)"
   ]
  },
  {
   "cell_type": "code",
   "execution_count": 105,
   "metadata": {},
   "outputs": [
    {
     "data": {
      "text/plain": [
       "(array([1, 2, 3, 4, 5]), array([16, 17, 18, 19, 20]))"
      ]
     },
     "execution_count": 105,
     "metadata": {},
     "output_type": "execute_result"
    }
   ],
   "source": [
    "# 각 열의 max값, min값 출력하기\n",
    "np.min(arr2,axis=0),np.max(arr2,axis=0)"
   ]
  },
  {
   "cell_type": "code",
   "execution_count": 106,
   "metadata": {},
   "outputs": [
    {
     "data": {
      "text/plain": [
       "array([15, 40, 65, 90])"
      ]
     },
     "execution_count": 106,
     "metadata": {},
     "output_type": "execute_result"
    }
   ],
   "source": [
    "# 각 행의 sum값 출력하기\n",
    "np.sum(arr2,axis=1)"
   ]
  },
  {
   "cell_type": "code",
   "execution_count": 107,
   "metadata": {},
   "outputs": [
    {
     "data": {
      "text/plain": [
       "array([34, 38, 42, 46, 50])"
      ]
     },
     "execution_count": 107,
     "metadata": {},
     "output_type": "execute_result"
    }
   ],
   "source": [
    "# 각 열의 sum값 출력하기\n",
    "np.sum(arr2,axis=0)"
   ]
  },
  {
   "cell_type": "markdown",
   "metadata": {},
   "source": [
    "## 6-4. 정렬"
   ]
  },
  {
   "cell_type": "code",
   "execution_count": 108,
   "metadata": {},
   "outputs": [
    {
     "data": {
      "text/plain": [
       "array([ 9, 25, 68, 88, 80, 49, 11, 95, 53, 99])"
      ]
     },
     "execution_count": 108,
     "metadata": {},
     "output_type": "execute_result"
    }
   ],
   "source": [
    "# 1~100까지 랜덤 정수값을 갖는 1차원 배열 (10, ) 생성하기\n",
    "# seed값 100부여하기\n",
    "np.random.seed(100)\n",
    "arr = np.random.randint(1,100,size = 10)\n",
    "arr"
   ]
  },
  {
   "cell_type": "code",
   "execution_count": 109,
   "metadata": {},
   "outputs": [
    {
     "data": {
      "text/plain": [
       "array([ 9, 11, 25, 49, 53, 68, 80, 88, 95, 99])"
      ]
     },
     "execution_count": 109,
     "metadata": {},
     "output_type": "execute_result"
    }
   ],
   "source": [
    "# 위 1차원 배열을 오름차순 정렬하기\n",
    "np.sort(arr)"
   ]
  },
  {
   "cell_type": "code",
   "execution_count": 110,
   "metadata": {},
   "outputs": [
    {
     "data": {
      "text/plain": [
       "array([99, 95, 88, 80, 68, 53, 49, 25, 11,  9])"
      ]
     },
     "execution_count": 110,
     "metadata": {},
     "output_type": "execute_result"
    }
   ],
   "source": [
    "# 위 1차원 배열을 내림차순 정렬하기\n",
    "np.sort(arr)[::-1]"
   ]
  },
  {
   "cell_type": "code",
   "execution_count": 111,
   "metadata": {},
   "outputs": [
    {
     "data": {
      "text/plain": [
       "array([[ 9, 25, 68, 88, 80, 49, 11, 95, 53, 99],\n",
       "       [54, 67, 99, 15, 35, 25, 16, 61, 59, 17],\n",
       "       [10, 94, 87,  3, 28,  5, 32,  2, 14, 84],\n",
       "       [ 5, 92, 60, 68,  8, 50, 48, 66, 62, 15],\n",
       "       [56, 72, 81,  3, 95, 20, 99, 64, 54, 28]])"
      ]
     },
     "execution_count": 111,
     "metadata": {},
     "output_type": "execute_result"
    }
   ],
   "source": [
    "# 랜덤 seed값 100부여하기\n",
    "# 1~100까지 랜덤 정수값을 갖는 2차원 배열 (5, 10) 생성하기\n",
    "np.random.seed(100)\n",
    "arr = np.random.randint(1,100,size = 50).reshape(5,10)\n",
    "arr"
   ]
  },
  {
   "cell_type": "code",
   "execution_count": 112,
   "metadata": {},
   "outputs": [
    {
     "data": {
      "text/plain": [
       "array([[ 5, 25, 60,  3,  8,  5, 11,  2, 14, 15],\n",
       "       [ 9, 67, 68,  3, 28, 20, 16, 61, 53, 17],\n",
       "       [10, 72, 81, 15, 35, 25, 32, 64, 54, 28],\n",
       "       [54, 92, 87, 68, 80, 49, 48, 66, 59, 84],\n",
       "       [56, 94, 99, 88, 95, 50, 99, 95, 62, 99]])"
      ]
     },
     "execution_count": 112,
     "metadata": {},
     "output_type": "execute_result"
    }
   ],
   "source": [
    "# 열 기준 정렬하기\n",
    "np.sort(arr,axis=0)"
   ]
  },
  {
   "cell_type": "code",
   "execution_count": 113,
   "metadata": {},
   "outputs": [
    {
     "data": {
      "text/plain": [
       "array([[ 9, 11, 25, 49, 53, 68, 80, 88, 95, 99],\n",
       "       [15, 16, 17, 25, 35, 54, 59, 61, 67, 99],\n",
       "       [ 2,  3,  5, 10, 14, 28, 32, 84, 87, 94],\n",
       "       [ 5,  8, 15, 48, 50, 60, 62, 66, 68, 92],\n",
       "       [ 3, 20, 28, 54, 56, 64, 72, 81, 95, 99]])"
      ]
     },
     "execution_count": 113,
     "metadata": {},
     "output_type": "execute_result"
    }
   ],
   "source": [
    "# 행 기준 정렬하기\n",
    "np.sort(arr,axis=1)"
   ]
  },
  {
   "cell_type": "markdown",
   "metadata": {},
   "source": [
    "## 6-5. 인덱싱과 슬라이싱"
   ]
  },
  {
   "cell_type": "code",
   "execution_count": 114,
   "metadata": {},
   "outputs": [
    {
     "data": {
      "text/plain": [
       "array([[ 0,  1,  2,  3,  4],\n",
       "       [ 5,  6,  7,  8,  9],\n",
       "       [10, 11, 12, 13, 14]])"
      ]
     },
     "execution_count": 114,
     "metadata": {},
     "output_type": "execute_result"
    }
   ],
   "source": [
    "# 0~14로 이루어진 2차원 배열 (3, 5) 생성하기\n",
    "arr = np.arange(0,15).reshape(3,5)\n",
    "arr"
   ]
  },
  {
   "cell_type": "code",
   "execution_count": 115,
   "metadata": {},
   "outputs": [
    {
     "data": {
      "text/plain": [
       "7"
      ]
     },
     "execution_count": 115,
     "metadata": {},
     "output_type": "execute_result"
    }
   ],
   "source": [
    "# 위 배열에서 7을 인덱싱하기\n",
    "arr[1,2]"
   ]
  },
  {
   "cell_type": "code",
   "execution_count": 116,
   "metadata": {},
   "outputs": [
    {
     "data": {
      "text/plain": [
       "14"
      ]
     },
     "execution_count": 116,
     "metadata": {},
     "output_type": "execute_result"
    }
   ],
   "source": [
    "# 위 배열에서 14를 인덱싱하기 (음수 인덱스 사용)\n",
    "arr[2,4]"
   ]
  },
  {
   "cell_type": "code",
   "execution_count": 117,
   "metadata": {},
   "outputs": [
    {
     "data": {
      "text/plain": [
       "array([6, 7])"
      ]
     },
     "execution_count": 117,
     "metadata": {},
     "output_type": "execute_result"
    }
   ],
   "source": [
    "# 위 배열에서 배열 [6, 7]을 슬라이싱하기\n",
    "arr[1,1:3]"
   ]
  },
  {
   "cell_type": "code",
   "execution_count": 118,
   "metadata": {},
   "outputs": [
    {
     "data": {
      "text/plain": [
       "array([ 7, 12])"
      ]
     },
     "execution_count": 118,
     "metadata": {},
     "output_type": "execute_result"
    }
   ],
   "source": [
    "# 위 배열에서 배열 [7, 12]을 슬라이싱하기\n",
    "arr[1:,2]"
   ]
  },
  {
   "cell_type": "code",
   "execution_count": 119,
   "metadata": {},
   "outputs": [
    {
     "data": {
      "text/plain": [
       "array([[3, 4],\n",
       "       [8, 9]])"
      ]
     },
     "execution_count": 119,
     "metadata": {},
     "output_type": "execute_result"
    }
   ],
   "source": [
    "# 위 배열에서 [[3, 4], [8, 9]]을 슬라이싱하기\n",
    "arr[:2,3:5]"
   ]
  },
  {
   "cell_type": "code",
   "execution_count": 120,
   "metadata": {},
   "outputs": [
    {
     "data": {
      "text/plain": [
       "array([ 0,  3,  6,  9, 12])"
      ]
     },
     "execution_count": 120,
     "metadata": {},
     "output_type": "execute_result"
    }
   ],
   "source": [
    "# 위 배열에서 3의 배수 찾기\n",
    "arr[arr%3==0]"
   ]
  },
  {
   "cell_type": "code",
   "execution_count": 121,
   "metadata": {},
   "outputs": [
    {
     "data": {
      "text/plain": [
       "array([ 1,  5,  9, 13])"
      ]
     },
     "execution_count": 121,
     "metadata": {},
     "output_type": "execute_result"
    }
   ],
   "source": [
    "# 위 배열에서 4로 나누면 1이 남는 수 찾기\n",
    "arr[arr%4==1]"
   ]
  },
  {
   "cell_type": "code",
   "execution_count": 122,
   "metadata": {},
   "outputs": [
    {
     "data": {
      "text/plain": [
       "array([9])"
      ]
     },
     "execution_count": 122,
     "metadata": {},
     "output_type": "execute_result"
    }
   ],
   "source": [
    "# 위 배열에서 3의 배수이면서 4로 나누면 1이 남는 수 찾기\n",
    "arr[(arr%3==0) & (arr%4==1)]"
   ]
  },
  {
   "cell_type": "code",
   "execution_count": null,
   "metadata": {},
   "outputs": [],
   "source": []
  },
  {
   "cell_type": "code",
   "execution_count": null,
   "metadata": {},
   "outputs": [],
   "source": []
  },
  {
   "cell_type": "code",
   "execution_count": null,
   "metadata": {},
   "outputs": [],
   "source": []
  }
 ],
 "metadata": {
  "kernelspec": {
   "display_name": "Python 3",
   "language": "python",
   "name": "python3"
  },
  "language_info": {
   "codemirror_mode": {
    "name": "ipython",
    "version": 3
   },
   "file_extension": ".py",
   "mimetype": "text/x-python",
   "name": "python",
   "nbconvert_exporter": "python",
   "pygments_lexer": "ipython3",
   "version": "3.8.5"
  },
  "toc-autonumbering": false
 },
 "nbformat": 4,
 "nbformat_minor": 4
}
