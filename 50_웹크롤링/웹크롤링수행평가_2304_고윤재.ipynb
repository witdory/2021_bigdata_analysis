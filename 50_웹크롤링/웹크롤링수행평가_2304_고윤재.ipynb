{
 "cells": [
  {
   "cell_type": "markdown",
   "metadata": {},
   "source": [
    "# 주제 : OP.GG 사용자 페이지 전적 크롤링\n",
    "# 대상 사이트 : op.gg\n",
    "#### 데이터 수집 과정 : \n",
    "1. 게임 플레이어의 이름을 입력받아 op.gg라는 사이트의 플레이어 화면으로 접속\n",
    "2. 플레이어의 게임 전적 갱신버튼 클릭\n",
    "3. 갱신한지 2분 이내에는 재갱신이 불가능해 alert창이 뜨는걸 닫아줌\n",
    "3. 검색결과에서 크롤링\n",
    "    * 경우 1: 입력된 플레이어의 킬, 데스, 어시스트, 승/패 여부, 사용 챔피언의 정보를 가져오고 bs4를 이용해 종류별로 구분.\n",
    "    * 경우 2: 입력된 플레이어의 현재 솔로랭크, 자유랭크 티어 정보를 가져옴\n",
    "4. tabulate를 이용해 DataFrame을 예쁘게 정리하여 출력"
   ]
  },
  {
   "cell_type": "code",
   "execution_count": 2,
   "metadata": {},
   "outputs": [],
   "source": [
    "from selenium import webdriver\n",
    "from bs4 import BeautifulSoup\n",
    "import time\n",
    "from selenium.webdriver.common.alert import Alert\n",
    "import requests\n",
    "import numpy as np\n",
    "import pandas as pd\n",
    "from tabulate import tabulate"
   ]
  },
  {
   "cell_type": "code",
   "execution_count": 3,
   "metadata": {},
   "outputs": [],
   "source": [
    "options = webdriver.ChromeOptions()\n",
    "# 창 숨기는 옵션 추가\n",
    "# options.add_argument(\"headless\")\n",
    "driver = webdriver.Chrome(\"/Users/goyoonjae/Desktop/dongmonitor/chromedriver\",options=options)"
   ]
  },
  {
   "cell_type": "markdown",
   "metadata": {},
   "source": [
    "## 입력한 사용자의 최근 20게임의 전적(승/패, 킬, 데스, 어시스트, 챔피언) 크롤링"
   ]
  },
  {
   "cell_type": "code",
   "execution_count": 4,
   "metadata": {},
   "outputs": [],
   "source": [
    "def gamelog(nickname):\n",
    "\n",
    "    driver = webdriver.Chrome(\"/Users/goyoonjae/Desktop/dongmonitor/chromedriver\",options=options)\n",
    "    url = 'https://www.op.gg/summoner/userName='\n",
    "    # inp = input('롤 닉넴 입력 : ')\n",
    "    url = url+nickname\n",
    "    driver.get(url)\n",
    "    alert = Alert(driver)\n",
    "    req = requests.get(url)\n",
    "    html = req.text\n",
    "    soup = BeautifulSoup(html,'html.parser')\n",
    "    pd.set_option('expand_frame_repr',False)\n",
    "\n",
    "    driver.find_element_by_css_selector('#SummonerRefreshButton').click()\n",
    "\n",
    "    try:\n",
    "        # time.sleep(3)\n",
    "        alert = Alert(driver)\n",
    "        # alert = driver.switch_to.alert\n",
    "        \n",
    "        print(alert)\n",
    "        print('alert detected!')\n",
    "        alert.accept()\n",
    "        alert.accept()\n",
    "    except:\n",
    "        \"noal\"\n",
    "    kda = soup.select('.GameItem>.Content>.KDA>.KDA>span')\n",
    "    kdas = []\n",
    "    for tag in kda:\n",
    "        kdas.append(tag.get_text().strip())\n",
    "    KDA = np.reshape(kdas,(20,3))\n",
    "    print('kda 조회중...')\n",
    "    # print(KDA)\n",
    "\n",
    "\n",
    "    gameresult = soup.select('.GameStats>.GameResult')\n",
    "    gameresults = []\n",
    "    for tag in gameresult:\n",
    "        gameresults.append(tag.get_text().strip())\n",
    "    GRES = np.reshape(gameresults,(20,1))\n",
    "    print('게임결과 조회중...')\n",
    "    # print(GRES)\n",
    "\n",
    "\n",
    "    champion = soup.select('.Content>.GameSettingInfo>.ChampionName>a')\n",
    "    champions = []\n",
    "    for tag in champion:\n",
    "        champions.append(tag.get_text())\n",
    "    CHAMP = np.reshape(champions,(20,1))\n",
    "    print('챔피언 조회중...')\n",
    "\n",
    "\n",
    "    data = pd.DataFrame(CHAMP)\n",
    "    subdf = pd.DataFrame(GRES)\n",
    "    data = pd.concat([data, subdf],axis = 1)\n",
    "    subdf = pd.DataFrame(KDA)\n",
    "    data = pd.concat([data,subdf],axis = 1)\n",
    "    data.columns = ['CHAMP','RESULT','KILL','DEATH','ASSIST']\n",
    "    data = tabulate(data,headers='keys',tablefmt='pretty',showindex=range(1,21))\n",
    "    \n",
    "\n",
    "    driver.delete_all_cookies()\n",
    "    driver.quit()\n",
    "    print('정보반환완료')\n",
    "    print(data)\n",
    "#     return data\n",
    "    "
   ]
  },
  {
   "cell_type": "markdown",
   "metadata": {},
   "source": [
    "## 입력한 사용자의 현재 솔로랭크, 자유랭크 티어 크롤링"
   ]
  },
  {
   "cell_type": "code",
   "execution_count": 5,
   "metadata": {},
   "outputs": [],
   "source": [
    "def nowtier(nickname):\n",
    "    driver = webdriver.Chrome(\"/Users/goyoonjae/Desktop/dongmonitor/chromedriver\",options=options)\n",
    "    url = 'https://www.op.gg/summoner/userName='\n",
    "    # inp = input('롤 닉넴 입력 : ')\n",
    "    url = url+nickname\n",
    "    driver.get(url)\n",
    "    alert = Alert(driver)\n",
    "    req = requests.get(url)\n",
    "    html = req.text\n",
    "    soup = BeautifulSoup(html,'html.parser')\n",
    "\n",
    "    driver.find_element_by_css_selector('#SummonerRefreshButton').click()\n",
    "\n",
    "    try:\n",
    "        # time.sleep(3)\n",
    "        alert = Alert(driver)\n",
    "        # alert = driver.switch_to.alert\n",
    "        \n",
    "        print(alert)\n",
    "        # time.sleep(1)\n",
    "        print('alert detected!')\n",
    "        alert.accept()\n",
    "        # time.sleep(1)\n",
    "        alert.accept()\n",
    "    except:\n",
    "        \"noal\"\n",
    "        # time.sleep(3)\n",
    "        # print('no alert!')\n",
    "\n",
    "    \n",
    "    soltier = soup.find(class_= 'TierRank').get_text()\n",
    "    subtier = soup.find(class_=\"sub-tier__rank-tier\").get_text().strip()\n",
    "    driver.delete_all_cookies()\n",
    "    driver.quit()\n",
    "    print(nickname + f'님의 현재 티어\\n솔로랭크:{soltier}\\n자유랭크:{subtier}')\n",
    "#     return soltier, subtier\n"
   ]
  },
  {
   "cell_type": "markdown",
   "metadata": {},
   "source": [
    "# 전적을 크롤링하고 싶은 경우"
   ]
  },
  {
   "cell_type": "code",
   "execution_count": 6,
   "metadata": {},
   "outputs": [
    {
     "name": "stdin",
     "output_type": "stream",
     "text": [
      "사용자의 이름을 입력해주세요 함경도물냉면\n"
     ]
    },
    {
     "name": "stdout",
     "output_type": "stream",
     "text": [
      "<selenium.webdriver.common.alert.Alert object at 0x7fa450d9e370>\n",
      "alert detected!\n",
      "kda 조회중...\n",
      "게임결과 조회중...\n",
      "챔피언 조회중...\n",
      "정보반환완료\n",
      "+----+----------+---------+------+-------+--------+\n",
      "|    |  CHAMP   | RESULT  | KILL | DEATH | ASSIST |\n",
      "+----+----------+---------+------+-------+--------+\n",
      "| 1  |  Akali   | Defeat  |  4   |   6   |   3    |\n",
      "| 2  | LeBlanc  | Defeat  |  5   |   5   |   5    |\n",
      "| 3  |  Yasuo   | Defeat  |  4   |   8   |   3    |\n",
      "| 4  |  Yasuo   | Defeat  |  0   |   5   |   0    |\n",
      "| 5  | LeBlanc  | Victory |  9   |   4   |   8    |\n",
      "| 6  |  Sylas   | Defeat  |  7   |   9   |   9    |\n",
      "| 7  |  Yasuo   | Victory |  9   |   5   |   7    |\n",
      "| 8  |   Yone   | Defeat  |  4   |   8   |   1    |\n",
      "| 9  |  Sylas   | Defeat  |  8   |   6   |   2    |\n",
      "| 10 |  Yasuo   | Victory |  5   |   2   |   4    |\n",
      "| 11 | Malphite | Victory |  4   |   1   |   3    |\n",
      "| 12 |  Sylas   | Defeat  |  3   |   5   |   7    |\n",
      "| 13 |  Garen   | Victory |  6   |   0   |   0    |\n",
      "| 14 |   Sett   | Victory |  0   |   9   |   2    |\n",
      "| 15 | LeBlanc  | Victory |  5   |   5   |   11   |\n",
      "| 16 |   Yone   | Victory |  9   |   7   |   8    |\n",
      "| 17 |  Thresh  | Defeat  |  3   |   8   |   8    |\n",
      "| 18 |  Yasuo   | Victory |  11  |   8   |   18   |\n",
      "| 19 |  Yasuo   | Defeat  |  17  |   9   |   3    |\n",
      "| 20 |  Yasuo   | Victory |  24  |   4   |   9    |\n",
      "+----+----------+---------+------+-------+--------+\n"
     ]
    }
   ],
   "source": [
    "nickname = input('사용자의 이름을 입력해주세요')\n",
    "gamelog(nickname)"
   ]
  },
  {
   "cell_type": "markdown",
   "metadata": {},
   "source": [
    "# 티어를 크롤링하고 싶은 경우"
   ]
  },
  {
   "cell_type": "code",
   "execution_count": 7,
   "metadata": {},
   "outputs": [
    {
     "name": "stdin",
     "output_type": "stream",
     "text": [
      "사용자의 이름을 입력해주세요 함경도물냉면\n"
     ]
    },
    {
     "name": "stdout",
     "output_type": "stream",
     "text": [
      "<selenium.webdriver.common.alert.Alert object at 0x7fa4513c3f40>\n",
      "alert detected!\n",
      "함경도물냉면님의 현재 티어\n",
      "솔로랭크:Silver 4\n",
      "자유랭크:Bronze 3\n"
     ]
    }
   ],
   "source": [
    "nickname = input('사용자의 이름을 입력해주세요')\n",
    "nowtier(nickname)"
   ]
  },
  {
   "cell_type": "code",
   "execution_count": null,
   "metadata": {},
   "outputs": [],
   "source": []
  }
 ],
 "metadata": {
  "kernelspec": {
   "display_name": "Python 3 (ipykernel)",
   "language": "python",
   "name": "python3"
  },
  "language_info": {
   "codemirror_mode": {
    "name": "ipython",
    "version": 3
   },
   "file_extension": ".py",
   "mimetype": "text/x-python",
   "name": "python",
   "nbconvert_exporter": "python",
   "pygments_lexer": "ipython3",
   "version": "3.8.16"
  }
 },
 "nbformat": 4,
 "nbformat_minor": 4
}
